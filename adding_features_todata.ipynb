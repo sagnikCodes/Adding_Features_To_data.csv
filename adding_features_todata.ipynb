{
 "cells": [
  {
   "cell_type": "code",
   "execution_count": 34,
   "id": "b486a587",
   "metadata": {},
   "outputs": [
    {
     "name": "stdout",
     "output_type": "stream",
     "text": [
      "100\n"
     ]
    }
   ],
   "source": [
    "import numpy as np\n",
    "data=np.loadtxt(\"data.csv\",delimiter=\",\")\n",
    "input=data[:,0]\n",
    "output=data[:,1]\n",
    "number_of_data_points=input.shape[0]\n",
    "print(number_of_data_points)"
   ]
  },
  {
   "cell_type": "code",
   "execution_count": 35,
   "id": "8fd03501",
   "metadata": {},
   "outputs": [
    {
     "data": {
      "image/png": "[encoded data removed]",
      "text/plain": [
       "<Figure size 432x288 with 1 Axes>"
      ]
     },
     "metadata": {
      "needs_background": "light"
     },
     "output_type": "display_data"
    }
   ],
   "source": [
    "import matplotlib.pyplot as plt\n",
    "from sklearn.model_selection import train_test_split\n",
    "from sklearn.linear_model import LinearRegression\n",
    "x_train,x_test,y_train,y_test=train_test_split(input,output)\n",
    "plt.scatter(x_train,y_train,color=\"red\")\n",
    "plt.scatter(x_test,y_test,color=\"blue\")\n",
    "plt.show()"
   ]
  },
  {
   "cell_type": "code",
   "execution_count": 36,
   "id": "08bd4226",
   "metadata": {},
   "outputs": [],
   "source": [
    "import pandas as pd"
   ]
  },
  {
   "cell_type": "code",
   "execution_count": 37,
   "id": "51ef07da",
   "metadata": {},
   "outputs": [],
   "source": [
    "data=pd.read_csv(\"data.csv\")\n",
    "data.columns=[\"x\",\"y\"]"
   ]
  },
  {
   "cell_type": "code",
   "execution_count": 38,
   "id": "a361769a",
   "metadata": {},
   "outputs": [
    {
     "data": {
      "text/html": [
       "<div>\n",
       "<style scoped>\n",
       "    .dataframe tbody tr th:only-of-type {\n",
       "        vertical-align: middle;\n",
       "    }\n",
       "\n",
       "    .dataframe tbody tr th {\n",
       "        vertical-align: top;\n",
       "    }\n",
       "\n",
       "    .dataframe thead th {\n",
       "        text-align: right;\n",
       "    }\n",
       "</style>\n",
       "<table border=\"1\" class=\"dataframe\">\n",
       "  <thead>\n",
       "    <tr style=\"text-align: right;\">\n",
       "      <th></th>\n",
       "      <th>x</th>\n",
       "      <th>y</th>\n",
       "    </tr>\n",
       "  </thead>\n",
       "  <tbody>\n",
       "    <tr>\n",
       "      <th>0</th>\n",
       "      <td>53.426804</td>\n",
       "      <td>68.777596</td>\n",
       "    </tr>\n",
       "    <tr>\n",
       "      <th>1</th>\n",
       "      <td>61.530358</td>\n",
       "      <td>62.562382</td>\n",
       "    </tr>\n",
       "    <tr>\n",
       "      <th>2</th>\n",
       "      <td>47.475640</td>\n",
       "      <td>71.546632</td>\n",
       "    </tr>\n",
       "    <tr>\n",
       "      <th>3</th>\n",
       "      <td>59.813208</td>\n",
       "      <td>87.230925</td>\n",
       "    </tr>\n",
       "    <tr>\n",
       "      <th>4</th>\n",
       "      <td>55.142188</td>\n",
       "      <td>78.211518</td>\n",
       "    </tr>\n",
       "    <tr>\n",
       "      <th>...</th>\n",
       "      <td>...</td>\n",
       "      <td>...</td>\n",
       "    </tr>\n",
       "    <tr>\n",
       "      <th>94</th>\n",
       "      <td>50.030174</td>\n",
       "      <td>81.536991</td>\n",
       "    </tr>\n",
       "    <tr>\n",
       "      <th>95</th>\n",
       "      <td>49.239765</td>\n",
       "      <td>72.111832</td>\n",
       "    </tr>\n",
       "    <tr>\n",
       "      <th>96</th>\n",
       "      <td>50.039576</td>\n",
       "      <td>85.232007</td>\n",
       "    </tr>\n",
       "    <tr>\n",
       "      <th>97</th>\n",
       "      <td>48.149859</td>\n",
       "      <td>66.224958</td>\n",
       "    </tr>\n",
       "    <tr>\n",
       "      <th>98</th>\n",
       "      <td>25.128485</td>\n",
       "      <td>53.454394</td>\n",
       "    </tr>\n",
       "  </tbody>\n",
       "</table>\n",
       "<p>99 rows × 2 columns</p>\n",
       "</div>"
      ],
      "text/plain": [
       "            x          y\n",
       "0   53.426804  68.777596\n",
       "1   61.530358  62.562382\n",
       "2   47.475640  71.546632\n",
       "3   59.813208  87.230925\n",
       "4   55.142188  78.211518\n",
       "..        ...        ...\n",
       "94  50.030174  81.536991\n",
       "95  49.239765  72.111832\n",
       "96  50.039576  85.232007\n",
       "97  48.149859  66.224958\n",
       "98  25.128485  53.454394\n",
       "\n",
       "[99 rows x 2 columns]"
      ]
     },
     "execution_count": 38,
     "metadata": {},
     "output_type": "execute_result"
    }
   ],
   "source": [
    "data"
   ]
  },
  {
   "cell_type": "code",
   "execution_count": 39,
   "id": "e48c394c",
   "metadata": {},
   "outputs": [
    {
     "data": {
      "text/html": [
       "<div>\n",
       "<style scoped>\n",
       "    .dataframe tbody tr th:only-of-type {\n",
       "        vertical-align: middle;\n",
       "    }\n",
       "\n",
       "    .dataframe tbody tr th {\n",
       "        vertical-align: top;\n",
       "    }\n",
       "\n",
       "    .dataframe thead th {\n",
       "        text-align: right;\n",
       "    }\n",
       "</style>\n",
       "<table border=\"1\" class=\"dataframe\">\n",
       "  <thead>\n",
       "    <tr style=\"text-align: right;\">\n",
       "      <th></th>\n",
       "      <th>x</th>\n",
       "      <th>y</th>\n",
       "      <th>x_x</th>\n",
       "    </tr>\n",
       "  </thead>\n",
       "  <tbody>\n",
       "    <tr>\n",
       "      <th>0</th>\n",
       "      <td>53.426804</td>\n",
       "      <td>68.777596</td>\n",
       "      <td>2854.423389</td>\n",
       "    </tr>\n",
       "    <tr>\n",
       "      <th>1</th>\n",
       "      <td>61.530358</td>\n",
       "      <td>62.562382</td>\n",
       "      <td>3785.984959</td>\n",
       "    </tr>\n",
       "    <tr>\n",
       "      <th>2</th>\n",
       "      <td>47.475640</td>\n",
       "      <td>71.546632</td>\n",
       "      <td>2253.936359</td>\n",
       "    </tr>\n",
       "    <tr>\n",
       "      <th>3</th>\n",
       "      <td>59.813208</td>\n",
       "      <td>87.230925</td>\n",
       "      <td>3577.619836</td>\n",
       "    </tr>\n",
       "    <tr>\n",
       "      <th>4</th>\n",
       "      <td>55.142188</td>\n",
       "      <td>78.211518</td>\n",
       "      <td>3040.660943</td>\n",
       "    </tr>\n",
       "    <tr>\n",
       "      <th>...</th>\n",
       "      <td>...</td>\n",
       "      <td>...</td>\n",
       "      <td>...</td>\n",
       "    </tr>\n",
       "    <tr>\n",
       "      <th>94</th>\n",
       "      <td>50.030174</td>\n",
       "      <td>81.536991</td>\n",
       "      <td>2503.018345</td>\n",
       "    </tr>\n",
       "    <tr>\n",
       "      <th>95</th>\n",
       "      <td>49.239765</td>\n",
       "      <td>72.111832</td>\n",
       "      <td>2424.554491</td>\n",
       "    </tr>\n",
       "    <tr>\n",
       "      <th>96</th>\n",
       "      <td>50.039576</td>\n",
       "      <td>85.232007</td>\n",
       "      <td>2503.959160</td>\n",
       "    </tr>\n",
       "    <tr>\n",
       "      <th>97</th>\n",
       "      <td>48.149859</td>\n",
       "      <td>66.224958</td>\n",
       "      <td>2318.408911</td>\n",
       "    </tr>\n",
       "    <tr>\n",
       "      <th>98</th>\n",
       "      <td>25.128485</td>\n",
       "      <td>53.454394</td>\n",
       "      <td>631.440741</td>\n",
       "    </tr>\n",
       "  </tbody>\n",
       "</table>\n",
       "<p>99 rows × 3 columns</p>\n",
       "</div>"
      ],
      "text/plain": [
       "            x          y          x_x\n",
       "0   53.426804  68.777596  2854.423389\n",
       "1   61.530358  62.562382  3785.984959\n",
       "2   47.475640  71.546632  2253.936359\n",
       "3   59.813208  87.230925  3577.619836\n",
       "4   55.142188  78.211518  3040.660943\n",
       "..        ...        ...          ...\n",
       "94  50.030174  81.536991  2503.018345\n",
       "95  49.239765  72.111832  2424.554491\n",
       "96  50.039576  85.232007  2503.959160\n",
       "97  48.149859  66.224958  2318.408911\n",
       "98  25.128485  53.454394   631.440741\n",
       "\n",
       "[99 rows x 3 columns]"
      ]
     },
     "execution_count": 39,
     "metadata": {},
     "output_type": "execute_result"
    }
   ],
   "source": [
    "#adding feature x_x\n",
    "data[\"x_x\"]=data[\"x\"]**2\n",
    "data"
   ]
  },
  {
   "cell_type": "code",
   "execution_count": 40,
   "id": "ec4f2885",
   "metadata": {},
   "outputs": [
    {
     "name": "stdout",
     "output_type": "stream",
     "text": [
      "            x          x_x\n",
      "0   53.426804  2854.423389\n",
      "1   61.530358  3785.984959\n",
      "2   47.475640  2253.936359\n",
      "3   59.813208  3577.619836\n",
      "4   55.142188  3040.660943\n",
      "..        ...          ...\n",
      "94  50.030174  2503.018345\n",
      "95  49.239765  2424.554491\n",
      "96  50.039576  2503.959160\n",
      "97  48.149859  2318.408911\n",
      "98  25.128485   631.440741\n",
      "\n",
      "[99 rows x 2 columns]\n",
      "0     68.777596\n",
      "1     62.562382\n",
      "2     71.546632\n",
      "3     87.230925\n",
      "4     78.211518\n",
      "        ...    \n",
      "94    81.536991\n",
      "95    72.111832\n",
      "96    85.232007\n",
      "97    66.224958\n",
      "98    53.454394\n",
      "Name: y, Length: 99, dtype: float64\n"
     ]
    }
   ],
   "source": [
    "output=data[\"y\"]\n",
    "#now can drop output column from data and rename data as input\n",
    "del data[\"y\"]\n",
    "input=data\n",
    "print(input)\n",
    "print(output)"
   ]
  },
  {
   "cell_type": "code",
   "execution_count": 52,
   "id": "16b19c6c",
   "metadata": {},
   "outputs": [
    {
     "name": "stdout",
     "output_type": "stream",
     "text": [
      "[-0.53101005  0.01854584]\n",
      "52.93236949421794\n"
     ]
    }
   ],
   "source": [
    "input=np.array(input)\n",
    "output=np.array(output)\n",
    "x_train,x_test,y_train,y_test=train_test_split(input,output,random_state=1)\n",
    "algorithm=LinearRegression()\n",
    "algorithm.fit(x_train,y_train)\n",
    "m=algorithm.coef_\n",
    "c=algorithm.intercept_\n",
    "print(m)\n",
    "print(c)"
   ]
  },
  {
   "cell_type": "code",
   "execution_count": 53,
   "id": "10ac6a9f",
   "metadata": {},
   "outputs": [],
   "source": [
    "def predict(x,m1,m2,c):\n",
    "    return m1*x+m2*(x**2)+c"
   ]
  },
  {
   "cell_type": "code",
   "execution_count": 54,
   "id": "4c921038",
   "metadata": {},
   "outputs": [
    {
     "name": "stdout",
     "output_type": "stream",
     "text": [
      "[ 68.02133124  84.17968773  84.78910592  82.71299668  60.38982895\n",
      "  67.30343288  91.11661351  56.56229572  59.53900476 104.1152814\n",
      "  61.5248285   83.72360529  79.94595042  81.05590597  72.92613691\n",
      "  63.79653776  62.43834558  96.22392375  65.70664121  78.85738023\n",
      "  69.52347477  55.37813312  62.51728214  62.71301799  99.03594725]\n"
     ]
    }
   ],
   "source": [
    "m1=algorithm.coef_[0]\n",
    "m2=algorithm.coef_[1]\n",
    "x1=x_train[:,0] #1st parameter in training data\n",
    "x2=x_test[:,0]\n",
    "y_predict_train=predict(x1,m1,m2,c)\n",
    "y_predict_test=predict(x2,m1,m2,c)\n",
    "print(y_predict_test)"
   ]
  },
  {
   "cell_type": "code",
   "execution_count": 57,
   "id": "7e80f37f",
   "metadata": {},
   "outputs": [
    {
     "data": {
      "image/png": "[encoded data removed]",
      "text/plain": [
       "<Figure size 432x288 with 1 Axes>"
      ]
     },
     "metadata": {
      "needs_background": "light"
     },
     "output_type": "display_data"
    }
   ],
   "source": [
    "plt.scatter(x2,y_predict_test,color=\"black\")\n",
    "plt.show()"
   ]
  },
  {
   "cell_type": "code",
   "execution_count": 58,
   "id": "540a1c03",
   "metadata": {},
   "outputs": [
    {
     "data": {
      "text/plain": [
       "0.6023065203549628"
      ]
     },
     "execution_count": 58,
     "metadata": {},
     "output_type": "execute_result"
    }
   ],
   "source": [
    "algorithm.score(x_test,y_test)"
   ]
  },
  {
   "cell_type": "code",
   "execution_count": null,
   "id": "e3a5716e",
   "metadata": {},
   "outputs": [],
   "source": []
  }
 ],
 "metadata": {
  "kernelspec": {
   "display_name": "Python 3 (ipykernel)",
   "language": "python",
   "name": "python3"
  },
  "language_info": {
   "codemirror_mode": {
    "name": "ipython",
    "version": 3
   },
   "file_extension": ".py",
   "mimetype": "text/x-python",
   "name": "python",
   "nbconvert_exporter": "python",
   "pygments_lexer": "ipython3",
   "version": "3.9.12"
  }
 },
 "nbformat": 4,
 "nbformat_minor": 5
}
